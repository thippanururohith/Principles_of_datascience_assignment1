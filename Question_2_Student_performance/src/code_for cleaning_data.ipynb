{
 "cells": [
  {
   "cell_type": "code",
   "execution_count": 16,
   "id": "6db302cf",
   "metadata": {},
   "outputs": [],
   "source": [
    "import pandas as pd\n",
    "import matplotlib.pyplot as plt\n",
    "import seaborn as sns"
   ]
  },
  {
   "cell_type": "code",
   "execution_count": 26,
   "id": "6374dc89",
   "metadata": {},
   "outputs": [],
   "source": [
    "# Load the dataset into a pandas DataFrame\n",
    "df = pd.read_csv(\"C:/Users/Administrator/Desktop/Principles_of_data_science_Assignment-1/Question_2_Student_performance/data_raw/Raw_StudentsPerformance.csv\")"
   ]
  },
  {
   "cell_type": "code",
   "execution_count": 27,
   "id": "4c2921fa",
   "metadata": {},
   "outputs": [],
   "source": [
    "#Cleaning data\n",
    "# Drop columns that are not relevant for the analysis\n",
    "df = df.drop([\"lunch\", \"test preparation course\"], axis=1)"
   ]
  },
  {
   "cell_type": "code",
   "execution_count": 28,
   "id": "5732e402",
   "metadata": {},
   "outputs": [],
   "source": [
    "\n",
    "# Check for outliers and remove extreme values\n",
    "df = df[(df[\"math score\"] >= 0) & (df[\"math score\"] <= 100)]\n",
    "df = df[(df[\"reading score\"] >= 0) & (df[\"reading score\"] <= 100)]\n",
    "df = df[(df[\"writing score\"] >= 0) & (df[\"writing score\"] <= 100)]"
   ]
  },
  {
   "cell_type": "code",
   "execution_count": 29,
   "id": "de8b6640",
   "metadata": {},
   "outputs": [],
   "source": [
    "# Save the cleaned data to a new CSV file\n",
    "df.to_csv(\"C:/Users/Administrator/Desktop/Principles_of_data_science_Assignment-1/Question_2_Student_performance/data_clean/cleaned_studentsPerformance.csv\", index=False)"
   ]
  },
  {
   "cell_type": "code",
   "execution_count": null,
   "id": "c9d6a849",
   "metadata": {},
   "outputs": [],
   "source": []
  },
  {
   "cell_type": "code",
   "execution_count": null,
   "id": "67dc0c68",
   "metadata": {},
   "outputs": [],
   "source": []
  }
 ],
 "metadata": {
  "kernelspec": {
   "display_name": "Python 3 (ipykernel)",
   "language": "python",
   "name": "python3"
  },
  "language_info": {
   "codemirror_mode": {
    "name": "ipython",
    "version": 3
   },
   "file_extension": ".py",
   "mimetype": "text/x-python",
   "name": "python",
   "nbconvert_exporter": "python",
   "pygments_lexer": "ipython3",
   "version": "3.9.13"
  }
 },
 "nbformat": 4,
 "nbformat_minor": 5
}
